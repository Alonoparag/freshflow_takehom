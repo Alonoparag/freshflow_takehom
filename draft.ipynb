{
 "cells": [
  {
   "cell_type": "code",
   "execution_count": 2,
   "metadata": {},
   "outputs": [
    {
     "ename": "IndentationError",
     "evalue": "unindent does not match any outer indentation level (<tokenize>, line 8)",
     "output_type": "error",
     "traceback": [
      "\u001b[0;36m  File \u001b[0;32m\"<tokenize>\"\u001b[0;36m, line \u001b[0;32m8\u001b[0m\n\u001b[0;31m    ,   sales_happen.day as day\u001b[0m\n\u001b[0m    ^\u001b[0m\n\u001b[0;31mIndentationError\u001b[0m\u001b[0;31m:\u001b[0m unindent does not match any outer indentation level\n"
     ]
    }
   ],
   "source": [
    "with sales_happen as\n",
    "(\n",
    "    select * from sales_predictions where sales_quantity > 0\n",
    ")\n",
    "\n",
    "SELECT \n",
    "        items.item_number as item_number\n",
    "    ,   sales_happen.day as day\n",
    "    ,   sales_happen.sales_quantity\n",
    "    ,   items.case_content_quantity\n",
    "FROM orderable_items items\n",
    "LEFT JOIN sales_happen\n",
    "    ON\n",
    "        items.item_number = sales_happen.item_number\n",
    "    AND\n",
    "        items.ordering_day = sales_happen.day\n",
    "where sales_happen.sales_quantity > 0\n",
    "limit 5\n",
    ";\n"
   ]
  },
  {
   "cell_type": "code",
   "execution_count": null,
   "metadata": {
    "vscode": {
     "languageId": "sql"
    }
   },
   "outputs": [],
   "source": [
    "\n",
    "SELECT \n",
    "        items.item_number as item_number\n",
    "    ,   order_intake.day as 'day'\n",
    "    ,   order_intake.quantity\n",
    "    ,   items.case_content_quantity\n",
    "FROM orderable_items items\n",
    "INNER JOIN order_intake\n",
    "    ON\n",
    "        items.delivery_day = order_intake.day\n",
    "limit 5\n",
    ";\n"
   ]
  },
  {
   "cell_type": "code",
   "execution_count": null,
   "metadata": {
    "vscode": {
     "languageId": "sql"
    }
   },
   "outputs": [],
   "source": [
    "SELECT\n",
    "        intake.item_number\n",
    "    ,   sales.day\n",
    "    ,   sales.sales_quantity\n",
    "FROM order_intake AS intake\n",
    "INNER JOIN sales_predictions AS  sales\n",
    "    ON\n",
    "        intake.item_number = sales.item_number\n",
    "    AND\n",
    "        intake.day = sales.day\n",
    "\n",
    "LIMIT 1;"
   ]
  },
  {
   "cell_type": "code",
   "execution_count": 6,
   "metadata": {},
   "outputs": [
    {
     "data": {
      "text/plain": [
       "266.66666666666663"
      ]
     },
     "execution_count": 6,
     "metadata": {},
     "output_type": "execute_result"
    }
   ],
   "source": [
    "(11/3-1)*100"
   ]
  },
  {
   "cell_type": "markdown",
   "metadata": {},
   "source": [
    "sales don't happen on delivery day"
   ]
  },
  {
   "cell_type": "code",
   "execution_count": null,
   "metadata": {},
   "outputs": [],
   "source": [
    "SELECT                                  \n",
    "        items.item_number as item_number\n",
    "    ,   sales.sales_quantity\n",
    "    ,   inv.inventory\n",
    "    ,   items.case_content_quantity\n",
    "FROM orderable_items items\n",
    "LEFT JOIN sales_predictions sales\n",
    "    ON\n",
    "        items.item_number = sales.item_number\n",
    "    AND\n",
    "        items.delivery_day = sales.day\n",
    "LEFT JOIN inventory inv\n",
    "    ON\n",
    "        items.item_number = inv.item_number\n",
    "    AND\n",
    "        items.ordering_day = inv.day\n",
    "LIMIT 4;\n"
   ]
  },
  {
   "cell_type": "code",
   "execution_count": null,
   "metadata": {
    "vscode": {
     "languageId": "sql"
    }
   },
   "outputs": [],
   "source": [
    "SELECT\n",
    "        inv.item_number as item_number\n",
    "    ,   inv.day as 'day'\n",
    "    ,   inv.inventory as 'inventory_quantity'\n",
    "    ,   sales.sales_quantity as 'sales_quantity'\n",
    "    ,   (sales.sales_quantity - inv.inventory) AS amount_to_order\n",
    "FROM sales_predictions sales\n",
    "INNER JOIN inventory inv\n",
    "    ON\n",
    "        sales.item_number = inv.item_number\n",
    "    AND\n",
    "        sales.day = inv.day\n",
    "WHERE\n",
    "    sales.sales_quantity > inv.inventory\n",
    "limit 5;\n",
    "\n"
   ]
  },
  {
   "cell_type": "code",
   "execution_count": null,
   "metadata": {},
   "outputs": [],
   "source": [
    "SELECT                                  \n",
    "        items.item_number as item_number\n",
    "    ,   items.ordering_day as ordering_day                                                                                \n",
    "    ,   items.delivery_day as delivery_day\n",
    "    ,   items.item_categories as item_categories\n",
    "    ,   json_array(items.tags, items.extra_categories) as labels\n",
    "                                             \n",
    "    , json_object('quantity',items.case_content_quantity,'unit',items.case_content_unit) as 'case'\n",
    "FROM orderable_items items\n",
    ";    "
   ]
  }
 ],
 "metadata": {
  "kernelspec": {
   "display_name": "Python 3.10.4 ('CAB-venv': venv)",
   "language": "python",
   "name": "python3"
  },
  "language_info": {
   "codemirror_mode": {
    "name": "ipython",
    "version": 3
   },
   "file_extension": ".py",
   "mimetype": "text/x-python",
   "name": "python",
   "nbconvert_exporter": "python",
   "pygments_lexer": "ipython3",
   "version": "3.10.6"
  },
  "orig_nbformat": 4,
  "vscode": {
   "interpreter": {
    "hash": "500e8330fc80fcd87c0cd76a0e1e7872a1d1b5bff674fc6b7384c0b1cc91b864"
   }
  }
 },
 "nbformat": 4,
 "nbformat_minor": 2
}
